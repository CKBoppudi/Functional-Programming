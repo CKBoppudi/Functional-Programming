{
 "cells": [
  {
   "cell_type": "markdown",
   "id": "e36d2991",
   "metadata": {},
   "source": [
    "# Functional Programming "
   ]
  },
  {
   "cell_type": "code",
   "execution_count": 1,
   "id": "b71c6073",
   "metadata": {},
   "outputs": [],
   "source": [
    "# Functions are the first class citizens in Python."
   ]
  },
  {
   "cell_type": "markdown",
   "id": "2b29891d",
   "metadata": {},
   "source": [
    "# Lambda Function"
   ]
  },
  {
   "cell_type": "code",
   "execution_count": 2,
   "id": "9e851333",
   "metadata": {},
   "outputs": [],
   "source": [
    "# Lambda function helps to define the function in a single line manner."
   ]
  },
  {
   "cell_type": "code",
   "execution_count": 3,
   "id": "472e9a9b",
   "metadata": {},
   "outputs": [],
   "source": [
    "# Example\n",
    "sqr = lambda x:x**2"
   ]
  },
  {
   "cell_type": "code",
   "execution_count": 4,
   "id": "42c1b019",
   "metadata": {},
   "outputs": [
    {
     "data": {
      "text/plain": [
       "25"
      ]
     },
     "execution_count": 4,
     "metadata": {},
     "output_type": "execute_result"
    }
   ],
   "source": [
    "sqr(5)"
   ]
  },
  {
   "cell_type": "code",
   "execution_count": 5,
   "id": "12af53c5",
   "metadata": {},
   "outputs": [
    {
     "ename": "TypeError",
     "evalue": "<lambda>() takes 1 positional argument but 8 were given",
     "output_type": "error",
     "traceback": [
      "\u001b[1;31m---------------------------------------------------------------------------\u001b[0m",
      "\u001b[1;31mTypeError\u001b[0m                                 Traceback (most recent call last)",
      "\u001b[1;32m~\\AppData\\Local\\Temp/ipykernel_12376/3784737064.py\u001b[0m in \u001b[0;36m<module>\u001b[1;34m\u001b[0m\n\u001b[1;32m----> 1\u001b[1;33m \u001b[0msqr\u001b[0m\u001b[1;33m(\u001b[0m\u001b[1;36m2\u001b[0m\u001b[1;33m,\u001b[0m\u001b[1;36m3\u001b[0m\u001b[1;33m,\u001b[0m\u001b[1;36m4\u001b[0m\u001b[1;33m,\u001b[0m\u001b[1;36m5\u001b[0m\u001b[1;33m,\u001b[0m\u001b[1;36m6\u001b[0m\u001b[1;33m,\u001b[0m\u001b[1;36m7\u001b[0m\u001b[1;33m,\u001b[0m\u001b[1;36m8\u001b[0m\u001b[1;33m,\u001b[0m\u001b[1;36m9\u001b[0m\u001b[1;33m)\u001b[0m\u001b[1;33m\u001b[0m\u001b[1;33m\u001b[0m\u001b[0m\n\u001b[0m",
      "\u001b[1;31mTypeError\u001b[0m: <lambda>() takes 1 positional argument but 8 were given"
     ]
    }
   ],
   "source": [
    "# Lambda function cannot take multiple positional arguments. It only takes one positional argument.\n",
    "sqr(2,3,4,5,6,7,8,9)"
   ]
  },
  {
   "cell_type": "code",
   "execution_count": 2,
   "id": "bc3dad48",
   "metadata": {},
   "outputs": [
    {
     "data": {
      "text/plain": [
       "100"
      ]
     },
     "execution_count": 2,
     "metadata": {},
     "output_type": "execute_result"
    }
   ],
   "source": [
    "# Lambda function need not be stored in a variable. \n",
    "#example \n",
    "(lambda x:x**2)(10)"
   ]
  },
  {
   "cell_type": "code",
   "execution_count": null,
   "id": "56dcb948",
   "metadata": {},
   "outputs": [],
   "source": [
    "# Conditions can be added to lambda functions.\n",
    "#Example for getting the product of only even number.\n",
    "\n",
    "even_sqr = lambda x:x**2 if x%2==0 else None"
   ]
  },
  {
   "cell_type": "code",
   "execution_count": 13,
   "id": "8fe33aee",
   "metadata": {},
   "outputs": [
    {
     "data": {
      "text/plain": [
       "[1, 2, 3, 4, 5, 6]"
      ]
     },
     "execution_count": 13,
     "metadata": {},
     "output_type": "execute_result"
    }
   ],
   "source": [
    "[1,2,3,4,5,6]"
   ]
  },
  {
   "cell_type": "markdown",
   "id": "28f41d63",
   "metadata": {},
   "source": [
    "# Sorted function"
   ]
  },
  {
   "cell_type": "code",
   "execution_count": 1,
   "id": "b01b1457",
   "metadata": {},
   "outputs": [],
   "source": [
    "sorted?\n",
    "## The above gives the information of the function required."
   ]
  },
  {
   "cell_type": "code",
   "execution_count": 2,
   "id": "25902c92",
   "metadata": {},
   "outputs": [],
   "source": [
    "map?\n",
    "#The above gives the information of the map function. "
   ]
  },
  {
   "cell_type": "code",
   "execution_count": 3,
   "id": "123f9001",
   "metadata": {},
   "outputs": [],
   "source": [
    "#Sorted function only works using the less than(<) or greater than (>) operator. The following is an example of how to work with\n",
    "#sorted function when list of dictionary is given."
   ]
  },
  {
   "cell_type": "code",
   "execution_count": 4,
   "id": "64573f25",
   "metadata": {},
   "outputs": [],
   "source": [
    "students =[\n",
    "    {\"name\":\"A\" , \"marks\":50},\n",
    "    {\"name\":\"B\" , \"marks\":60},\n",
    "    {\"name\":\"C\" , \"marks\":100},\n",
    "    {\"name\":\"D\" , \"marks\":20},\n",
    "    {\"name\":\"E\" , \"marks\":90}\n",
    "]"
   ]
  },
  {
   "cell_type": "code",
   "execution_count": 26,
   "id": "34a69df7",
   "metadata": {},
   "outputs": [
    {
     "ename": "TypeError",
     "evalue": "'<' not supported between instances of 'dict' and 'dict'",
     "output_type": "error",
     "traceback": [
      "\u001b[1;31m---------------------------------------------------------------------------\u001b[0m",
      "\u001b[1;31mTypeError\u001b[0m                                 Traceback (most recent call last)",
      "\u001b[1;32m~\\AppData\\Local\\Temp/ipykernel_12376/1215754390.py\u001b[0m in \u001b[0;36m<module>\u001b[1;34m\u001b[0m\n\u001b[1;32m----> 1\u001b[1;33m \u001b[0mlist\u001b[0m\u001b[1;33m(\u001b[0m\u001b[0msorted\u001b[0m\u001b[1;33m(\u001b[0m\u001b[0mstudents\u001b[0m\u001b[1;33m)\u001b[0m\u001b[1;33m)\u001b[0m\u001b[1;33m\u001b[0m\u001b[1;33m\u001b[0m\u001b[0m\n\u001b[0m",
      "\u001b[1;31mTypeError\u001b[0m: '<' not supported between instances of 'dict' and 'dict'"
     ]
    }
   ],
   "source": [
    "list(sorted(students))"
   ]
  },
  {
   "cell_type": "code",
   "execution_count": 27,
   "id": "bdca978e",
   "metadata": {},
   "outputs": [
    {
     "data": {
      "text/plain": [
       "[{'name': 'D', 'marks': 20},\n",
       " {'name': 'A', 'marks': 50},\n",
       " {'name': 'B', 'marks': 60},\n",
       " {'name': 'E', 'marks': 90},\n",
       " {'name': 'C', 'marks': 100}]"
      ]
     },
     "execution_count": 27,
     "metadata": {},
     "output_type": "execute_result"
    }
   ],
   "source": [
    "# To solve the above error lambda should be used as key as follows.\n",
    "list(sorted(students , key = lambda x:x[\"marks\"]))"
   ]
  },
  {
   "cell_type": "code",
   "execution_count": 28,
   "id": "01d81a70",
   "metadata": {},
   "outputs": [],
   "source": [
    "# In the above as the key is given using the \"marks\" the list of dictionary is sorted in ascending order according to marks."
   ]
  },
  {
   "cell_type": "code",
   "execution_count": 30,
   "id": "19cb2943",
   "metadata": {},
   "outputs": [
    {
     "data": {
      "text/plain": [
       "[{'name': 'A', 'marks': 50},\n",
       " {'name': 'B', 'marks': 60},\n",
       " {'name': 'C', 'marks': 100},\n",
       " {'name': 'D', 'marks': 20},\n",
       " {'name': 'E', 'marks': 90}]"
      ]
     },
     "execution_count": 30,
     "metadata": {},
     "output_type": "execute_result"
    }
   ],
   "source": [
    "# Now sorting the lis of dictionary according to the name as key.\n",
    "list(sorted(students , key = lambda x:x[\"name\"]))"
   ]
  },
  {
   "cell_type": "code",
   "execution_count": 31,
   "id": "5817082e",
   "metadata": {},
   "outputs": [],
   "source": [
    "# In the above as the key is given using the \"name\" the list of dictionary is sorted in ascending order according to name."
   ]
  },
  {
   "cell_type": "code",
   "execution_count": 35,
   "id": "d6292d2e",
   "metadata": {},
   "outputs": [
    {
     "data": {
      "text/plain": [
       "[{'name': 'E', 'marks': 90},\n",
       " {'name': 'D', 'marks': 20},\n",
       " {'name': 'C', 'marks': 100},\n",
       " {'name': 'B', 'marks': 60},\n",
       " {'name': 'A', 'marks': 50}]"
      ]
     },
     "execution_count": 35,
     "metadata": {},
     "output_type": "execute_result"
    }
   ],
   "source": [
    "# Now to sort it in descending order with name as key reverse() command have to be used. \n",
    "list(sorted(students , key = lambda x:x[\"name\"] , reverse = True))"
   ]
  },
  {
   "cell_type": "code",
   "execution_count": 37,
   "id": "2c9164b9",
   "metadata": {},
   "outputs": [
    {
     "data": {
      "text/plain": [
       "[{'name': 'C', 'marks': 100},\n",
       " {'name': 'E', 'marks': 90},\n",
       " {'name': 'B', 'marks': 60},\n",
       " {'name': 'A', 'marks': 50},\n",
       " {'name': 'D', 'marks': 20}]"
      ]
     },
     "execution_count": 37,
     "metadata": {},
     "output_type": "execute_result"
    }
   ],
   "source": [
    "# Now to sort it in descending order with name as key reverse() command have to be used. \n",
    "list(sorted(students , key = lambda x:x[\"marks\"], reverse = True))"
   ]
  },
  {
   "cell_type": "code",
   "execution_count": 40,
   "id": "8450772c",
   "metadata": {},
   "outputs": [],
   "source": [
    "#At the same time sorting using marks and name.Then two arguments should be given to the key using the lambda"
   ]
  },
  {
   "cell_type": "code",
   "execution_count": null,
   "id": "d99140c5",
   "metadata": {},
   "outputs": [],
   "source": [
    "students =[\n",
    "    {\"name\":\"A\" , \"marks\":50},\n",
    "    {\"name\":\"B\" , \"marks\":60},\n",
    "    {\"name\":\"C\" , \"marks\":100},\n",
    "    {\"name\":\"D\" , \"marks\":20},\n",
    "    {\"name\":\"E\" , \"marks\":90}\n",
    "]"
   ]
  },
  {
   "cell_type": "code",
   "execution_count": 46,
   "id": "c673a7e1",
   "metadata": {},
   "outputs": [
    {
     "data": {
      "text/plain": [
       "[{'name': 'D', 'marks': 20},\n",
       " {'name': 'A', 'marks': 50},\n",
       " {'name': 'B', 'marks': 60},\n",
       " {'name': 'E', 'marks': 90},\n",
       " {'name': 'C', 'marks': 100}]"
      ]
     },
     "execution_count": 46,
     "metadata": {},
     "output_type": "execute_result"
    }
   ],
   "source": [
    "list(sorted(students , key = lambda x:(x[\"marks\"] , x[\"name\"])))"
   ]
  },
  {
   "cell_type": "code",
   "execution_count": 48,
   "id": "5f84fb1a",
   "metadata": {},
   "outputs": [],
   "source": [
    "A = (1,5,6,4,3,2,8,9,1,4,10)"
   ]
  },
  {
   "cell_type": "code",
   "execution_count": 51,
   "id": "6bec5ad8",
   "metadata": {},
   "outputs": [
    {
     "data": {
      "text/plain": [
       "(1, 1, 2, 3, 4, 4, 5, 6, 8, 9, 10)"
      ]
     },
     "execution_count": 51,
     "metadata": {},
     "output_type": "execute_result"
    }
   ],
   "source": [
    "tuple(sorted(A))"
   ]
  },
  {
   "cell_type": "code",
   "execution_count": 52,
   "id": "2918c11e",
   "metadata": {},
   "outputs": [
    {
     "data": {
      "text/plain": [
       "[1, 1, 2, 3, 4, 4, 5, 6, 8, 9, 10]"
      ]
     },
     "execution_count": 52,
     "metadata": {},
     "output_type": "execute_result"
    }
   ],
   "source": [
    "list(sorted(A))"
   ]
  },
  {
   "cell_type": "code",
   "execution_count": 57,
   "id": "e4831f1b",
   "metadata": {},
   "outputs": [
    {
     "data": {
      "text/plain": [
       "[10, 9, 8, 6, 5, 4, 4, 3, 2, 1, 1]"
      ]
     },
     "execution_count": 57,
     "metadata": {},
     "output_type": "execute_result"
    }
   ],
   "source": [
    "list(sorted(A) [::-1])"
   ]
  },
  {
   "cell_type": "code",
   "execution_count": 60,
   "id": "8a8fdbea",
   "metadata": {},
   "outputs": [
    {
     "ename": "SyntaxError",
     "evalue": "invalid syntax (Temp/ipykernel_12376/2284760607.py, line 1)",
     "output_type": "error",
     "traceback": [
      "\u001b[1;36m  File \u001b[1;32m\"C:\\Users\\DELL\\AppData\\Local\\Temp/ipykernel_12376/2284760607.py\"\u001b[1;36m, line \u001b[1;32m1\u001b[0m\n\u001b[1;33m    (sorted(A),reverse = True)\u001b[0m\n\u001b[1;37m                       ^\u001b[0m\n\u001b[1;31mSyntaxError\u001b[0m\u001b[1;31m:\u001b[0m invalid syntax\n"
     ]
    }
   ],
   "source": [
    "(sorted(A),reverse = True)"
   ]
  },
  {
   "cell_type": "code",
   "execution_count": 66,
   "id": "11cffb4a",
   "metadata": {},
   "outputs": [
    {
     "data": {
      "text/plain": [
       "[10, 9, 8, 6, 5, 4, 4, 3, 2, 1, 1]"
      ]
     },
     "execution_count": 66,
     "metadata": {},
     "output_type": "execute_result"
    }
   ],
   "source": [
    "sorted([1,5,6,4,3,2,8,9,1,4,10],reverse = True)"
   ]
  },
  {
   "cell_type": "markdown",
   "id": "54023f95",
   "metadata": {},
   "source": [
    "# Complex Funtional Programming "
   ]
  },
  {
   "cell_type": "code",
   "execution_count": 22,
   "id": "0ffc6b4d",
   "metadata": {},
   "outputs": [
    {
     "ename": "TypeError",
     "evalue": "'NoneType' object is not callable",
     "output_type": "error",
     "traceback": [
      "\u001b[1;31m---------------------------------------------------------------------------\u001b[0m",
      "\u001b[1;31mTypeError\u001b[0m                                 Traceback (most recent call last)",
      "\u001b[1;32m~\\AppData\\Local\\Temp/ipykernel_21648/1219573535.py\u001b[0m in \u001b[0;36m<module>\u001b[1;34m\u001b[0m\n\u001b[0;32m      4\u001b[0m \u001b[1;33m\u001b[0m\u001b[0m\n\u001b[0;32m      5\u001b[0m \u001b[0msqrr\u001b[0m \u001b[1;33m=\u001b[0m \u001b[0mgen_exp\u001b[0m\u001b[1;33m(\u001b[0m\u001b[1;36m2\u001b[0m\u001b[1;33m)\u001b[0m\u001b[1;33m\u001b[0m\u001b[1;33m\u001b[0m\u001b[0m\n\u001b[1;32m----> 6\u001b[1;33m \u001b[0msqrr\u001b[0m\u001b[1;33m(\u001b[0m\u001b[1;36m2\u001b[0m\u001b[1;33m)\u001b[0m\u001b[1;33m\u001b[0m\u001b[1;33m\u001b[0m\u001b[0m\n\u001b[0m",
      "\u001b[1;31mTypeError\u001b[0m: 'NoneType' object is not callable"
     ]
    }
   ],
   "source": [
    "def gen_exp(n):\n",
    "    def exp(x):\n",
    "        return x**n\n",
    "    \n",
    "sqrr = gen_exp(2)\n",
    "sqrr(2)"
   ]
  },
  {
   "cell_type": "code",
   "execution_count": 23,
   "id": "14549a84",
   "metadata": {},
   "outputs": [],
   "source": [
    "def sqr(x):\n",
    "    s = x ** 2\n",
    "    return s"
   ]
  },
  {
   "cell_type": "code",
   "execution_count": 24,
   "id": "e6581516",
   "metadata": {},
   "outputs": [
    {
     "data": {
      "text/plain": [
       "4"
      ]
     },
     "execution_count": 24,
     "metadata": {},
     "output_type": "execute_result"
    }
   ],
   "source": [
    "sqr(2)"
   ]
  },
  {
   "cell_type": "code",
   "execution_count": 27,
   "id": "f249a2f0",
   "metadata": {},
   "outputs": [
    {
     "data": {
      "text/plain": [
       "27"
      ]
     },
     "execution_count": 27,
     "metadata": {},
     "output_type": "execute_result"
    }
   ],
   "source": [
    "def cube(x):\n",
    "    s = x**3\n",
    "    return s\n",
    "cube(3)"
   ]
  },
  {
   "cell_type": "code",
   "execution_count": 28,
   "id": "c51e7874",
   "metadata": {},
   "outputs": [
    {
     "data": {
      "text/plain": [
       "6"
      ]
     },
     "execution_count": 28,
     "metadata": {},
     "output_type": "execute_result"
    }
   ],
   "source": [
    "def addition(a,b):\n",
    "    q = a+b\n",
    "    return q\n",
    "addition(2,4)"
   ]
  },
  {
   "cell_type": "code",
   "execution_count": 30,
   "id": "730faf2a",
   "metadata": {},
   "outputs": [
    {
     "data": {
      "text/plain": [
       "6374982983803849220539611459988376284816940"
      ]
     },
     "execution_count": 30,
     "metadata": {},
     "output_type": "execute_result"
    }
   ],
   "source": [
    "def substract(a,b):\n",
    "    r = a-b\n",
    "    return r\n",
    "substract(27682479284874624687942389,982340974872479820439)\n",
    "substract(6374982984676287497286476287474862767499427,872438276746864827486486482682487)"
   ]
  },
  {
   "cell_type": "code",
   "execution_count": 32,
   "id": "623f7442",
   "metadata": {},
   "outputs": [
    {
     "data": {
      "text/plain": [
       "16998907065071220214"
      ]
     },
     "execution_count": 32,
     "metadata": {},
     "output_type": "execute_result"
    }
   ],
   "source": [
    "addition(8273982974787247340,8724924090283972874)"
   ]
  },
  {
   "cell_type": "code",
   "execution_count": 33,
   "id": "7f086b0c",
   "metadata": {},
   "outputs": [],
   "source": [
    "def gen_exp(n):\n",
    "    def exp(x):\n",
    "        m = x**n\n",
    "        return m \n",
    "    gen_exp(2)"
   ]
  },
  {
   "cell_type": "markdown",
   "id": "73cde744",
   "metadata": {},
   "source": [
    "#  Decorators"
   ]
  },
  {
   "cell_type": "code",
   "execution_count": 9,
   "id": "59e88d8c",
   "metadata": {},
   "outputs": [],
   "source": [
    "def pretty(func):\n",
    "    print(\"-\"*10)\n",
    "    func()\n",
    "    print(\"-\"*10)"
   ]
  },
  {
   "cell_type": "code",
   "execution_count": 24,
   "id": "25fcb51b",
   "metadata": {},
   "outputs": [
    {
     "ename": "TypeError",
     "evalue": "'NoneType' object is not callable",
     "output_type": "error",
     "traceback": [
      "\u001b[1;31m---------------------------------------------------------------------------\u001b[0m",
      "\u001b[1;31mTypeError\u001b[0m                                 Traceback (most recent call last)",
      "\u001b[1;32m~\\AppData\\Local\\Temp/ipykernel_23468/380114669.py\u001b[0m in \u001b[0;36m<module>\u001b[1;34m\u001b[0m\n\u001b[0;32m      1\u001b[0m \u001b[1;33m@\u001b[0m\u001b[0mpretty\u001b[0m\u001b[1;33m\u001b[0m\u001b[1;33m\u001b[0m\u001b[0m\n\u001b[1;32m----> 2\u001b[1;33m \u001b[1;32mdef\u001b[0m \u001b[0mfoo\u001b[0m\u001b[1;33m(\u001b[0m\u001b[0ma\u001b[0m\u001b[1;33m,\u001b[0m\u001b[0mb\u001b[0m\u001b[1;33m)\u001b[0m\u001b[1;33m:\u001b[0m\u001b[1;33m\u001b[0m\u001b[1;33m\u001b[0m\u001b[0m\n\u001b[0m\u001b[0;32m      3\u001b[0m     \u001b[1;32mreturn\u001b[0m \u001b[0ma\u001b[0m\u001b[1;33m+\u001b[0m\u001b[0mb\u001b[0m\u001b[1;33m\u001b[0m\u001b[1;33m\u001b[0m\u001b[0m\n",
      "\u001b[1;31mTypeError\u001b[0m: 'NoneType' object is not callable"
     ]
    }
   ],
   "source": [
    "@pretty\n",
    "def foo(a,b):\n",
    "    return a+b"
   ]
  },
  {
   "cell_type": "code",
   "execution_count": 25,
   "id": "281ef561",
   "metadata": {},
   "outputs": [
    {
     "ename": "TypeError",
     "evalue": "'NoneType' object is not callable",
     "output_type": "error",
     "traceback": [
      "\u001b[1;31m---------------------------------------------------------------------------\u001b[0m",
      "\u001b[1;31mTypeError\u001b[0m                                 Traceback (most recent call last)",
      "\u001b[1;32m~\\AppData\\Local\\Temp/ipykernel_23468/3333515452.py\u001b[0m in \u001b[0;36m<module>\u001b[1;34m\u001b[0m\n\u001b[1;32m----> 1\u001b[1;33m \u001b[0mfoo\u001b[0m\u001b[1;33m(\u001b[0m\u001b[1;36m1\u001b[0m\u001b[1;33m,\u001b[0m\u001b[1;36m2\u001b[0m\u001b[1;33m)\u001b[0m\u001b[1;33m\u001b[0m\u001b[1;33m\u001b[0m\u001b[0m\n\u001b[0m",
      "\u001b[1;31mTypeError\u001b[0m: 'NoneType' object is not callable"
     ]
    }
   ],
   "source": [
    "foo(1,2)"
   ]
  },
  {
   "cell_type": "code",
   "execution_count": null,
   "id": "34585c02",
   "metadata": {},
   "outputs": [],
   "source": []
  },
  {
   "cell_type": "code",
   "execution_count": null,
   "id": "7a02eca9",
   "metadata": {},
   "outputs": [],
   "source": []
  },
  {
   "cell_type": "code",
   "execution_count": null,
   "id": "22b68c8a",
   "metadata": {},
   "outputs": [],
   "source": []
  },
  {
   "cell_type": "code",
   "execution_count": null,
   "id": "0fecfce2",
   "metadata": {},
   "outputs": [],
   "source": []
  },
  {
   "cell_type": "code",
   "execution_count": null,
   "id": "0b8eabd7",
   "metadata": {},
   "outputs": [],
   "source": []
  },
  {
   "cell_type": "code",
   "execution_count": null,
   "id": "537b908c",
   "metadata": {},
   "outputs": [],
   "source": []
  },
  {
   "cell_type": "code",
   "execution_count": 17,
   "id": "9f187069",
   "metadata": {},
   "outputs": [],
   "source": [
    "def func(a):\n",
    "    a[0] = 200\n",
    "    print(a)"
   ]
  },
  {
   "cell_type": "code",
   "execution_count": 18,
   "id": "5aca0bd3",
   "metadata": {},
   "outputs": [],
   "source": [
    "arr = [1,2,3,4,5]"
   ]
  },
  {
   "cell_type": "code",
   "execution_count": 15,
   "id": "2346772a",
   "metadata": {},
   "outputs": [
    {
     "name": "stdout",
     "output_type": "stream",
     "text": [
      "[200, 2, 3, 4, 5]\n"
     ]
    }
   ],
   "source": [
    "func(arr)"
   ]
  },
  {
   "cell_type": "code",
   "execution_count": 16,
   "id": "cc48d19b",
   "metadata": {},
   "outputs": [
    {
     "name": "stdout",
     "output_type": "stream",
     "text": [
      "[200, 2, 3, 4, 5]\n"
     ]
    }
   ],
   "source": [
    "print(arr)"
   ]
  },
  {
   "cell_type": "code",
   "execution_count": null,
   "id": "2a205ab7",
   "metadata": {},
   "outputs": [],
   "source": []
  },
  {
   "cell_type": "code",
   "execution_count": null,
   "id": "cc363a42",
   "metadata": {},
   "outputs": [],
   "source": []
  },
  {
   "cell_type": "code",
   "execution_count": null,
   "id": "6efadd71",
   "metadata": {},
   "outputs": [],
   "source": []
  },
  {
   "cell_type": "code",
   "execution_count": null,
   "id": "c64baeae",
   "metadata": {},
   "outputs": [],
   "source": []
  },
  {
   "cell_type": "code",
   "execution_count": null,
   "id": "5cc84118",
   "metadata": {},
   "outputs": [],
   "source": []
  },
  {
   "cell_type": "code",
   "execution_count": null,
   "id": "2a1c4aed",
   "metadata": {},
   "outputs": [],
   "source": []
  },
  {
   "cell_type": "code",
   "execution_count": null,
   "id": "ed049e02",
   "metadata": {},
   "outputs": [],
   "source": []
  },
  {
   "cell_type": "code",
   "execution_count": null,
   "id": "bdf395a8",
   "metadata": {},
   "outputs": [],
   "source": []
  },
  {
   "cell_type": "code",
   "execution_count": null,
   "id": "c6630b22",
   "metadata": {},
   "outputs": [],
   "source": []
  },
  {
   "cell_type": "code",
   "execution_count": null,
   "id": "6459139b",
   "metadata": {},
   "outputs": [],
   "source": []
  },
  {
   "cell_type": "code",
   "execution_count": null,
   "id": "e243ceff",
   "metadata": {},
   "outputs": [],
   "source": []
  },
  {
   "cell_type": "code",
   "execution_count": null,
   "id": "774ee271",
   "metadata": {},
   "outputs": [],
   "source": []
  },
  {
   "cell_type": "code",
   "execution_count": null,
   "id": "1179fd2f",
   "metadata": {},
   "outputs": [],
   "source": []
  },
  {
   "cell_type": "code",
   "execution_count": null,
   "id": "16d21001",
   "metadata": {},
   "outputs": [],
   "source": []
  },
  {
   "cell_type": "code",
   "execution_count": null,
   "id": "df010b84",
   "metadata": {},
   "outputs": [],
   "source": []
  },
  {
   "cell_type": "code",
   "execution_count": null,
   "id": "a06b3331",
   "metadata": {},
   "outputs": [],
   "source": []
  },
  {
   "cell_type": "code",
   "execution_count": null,
   "id": "045f7cef",
   "metadata": {},
   "outputs": [],
   "source": []
  },
  {
   "cell_type": "code",
   "execution_count": null,
   "id": "be1680c6",
   "metadata": {},
   "outputs": [],
   "source": []
  },
  {
   "cell_type": "code",
   "execution_count": null,
   "id": "78300993",
   "metadata": {},
   "outputs": [],
   "source": []
  },
  {
   "cell_type": "code",
   "execution_count": null,
   "id": "cd868afd",
   "metadata": {},
   "outputs": [],
   "source": []
  },
  {
   "cell_type": "code",
   "execution_count": null,
   "id": "41b862fe",
   "metadata": {},
   "outputs": [],
   "source": []
  },
  {
   "cell_type": "code",
   "execution_count": null,
   "id": "675e0874",
   "metadata": {},
   "outputs": [],
   "source": []
  }
 ],
 "metadata": {
  "kernelspec": {
   "display_name": "Python 3 (ipykernel)",
   "language": "python",
   "name": "python3"
  },
  "language_info": {
   "codemirror_mode": {
    "name": "ipython",
    "version": 3
   },
   "file_extension": ".py",
   "mimetype": "text/x-python",
   "name": "python",
   "nbconvert_exporter": "python",
   "pygments_lexer": "ipython3",
   "version": "3.9.7"
  }
 },
 "nbformat": 4,
 "nbformat_minor": 5
}
